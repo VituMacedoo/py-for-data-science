{
  "nbformat": 4,
  "nbformat_minor": 0,
  "metadata": {
    "colab": {
      "provenance": [],
      "authorship_tag": "ABX9TyPajRjaGrFvBh9XR2C9uX8p",
      "include_colab_link": true
    },
    "kernelspec": {
      "name": "python3",
      "display_name": "Python 3"
    },
    "language_info": {
      "name": "python"
    }
  },
  "cells": [
    {
      "cell_type": "markdown",
      "metadata": {
        "id": "view-in-github",
        "colab_type": "text"
      },
      "source": [
        "<a href=\"https://colab.research.google.com/github/vitormedeiroos/py-for-data-science/blob/main/introdu%C3%A7ao_a_programa%C3%A7ao_orientada_a_objetos.ipynb\" target=\"_parent\"><img src=\"https://colab.research.google.com/assets/colab-badge.svg\" alt=\"Open In Colab\"/></a>"
      ]
    },
    {
      "cell_type": "markdown",
      "source": [
        "#Curso Python 3 básico ao avançado"
      ],
      "metadata": {
        "id": "Pgr7O4ocfHmp"
      }
    },
    {
      "cell_type": "markdown",
      "source": [
        "## Programação Orientada a Objetos\n",
        "\n",
        "\n",
        "Livros:\n",
        "> Python Fluente O'reyli e PHP Orientado a objetos\n",
        "\n",
        "\n",
        "##**Classes**\n",
        "Classes são moldes para criar novos objetos.As classes geram novos objetos que contêm instâncias que podem ter os seus própios atributos e métodos.\n",
        "\n",
        "\n",
        "```\n",
        "# Por exemplo:\n",
        "\n",
        "nome = 'Vitor'\n",
        "print(nome.upper())\n",
        "print(isinstance(string, str)\n",
        "\n",
        "```\n",
        "\n",
        "**Métodos**:\n",
        "O ```upper()``` é um método que entra no dado (instância) dentro da variável (objeto) ```nome``` que é Vitor, que tem type ```str```.\n",
        "\n",
        "Funçoes dentro da classe.\n",
        "\n",
        "**Instancia**:\n",
        "O dados alocado do  objeto(variável) ```nome```, o ```str``` é uma classe que lê essa instância.\n",
        "\n",
        "\n",
        "\n",
        "\n",
        "O ```upper()```consegue saber o dado que está na variável ```nome```.\n",
        "\n",
        "Entretanto ele só vai funcionar se estiver lidando com o *class* str. Já que a mesma é voltada para tratativa dessa instância.\n",
        "\n",
        "\n",
        "Esses objetos são basicamente variáveis que podem usar seus dados internos para serem conectados com a instância"
      ],
      "metadata": {
        "id": "qcN4qmR-AOBc"
      }
    },
    {
      "cell_type": "code",
      "source": [
        "#Convençao PascalCase\n",
        "class Carro:\n",
        "  def __init__(self,nome_carro = input('Insira o nome do carro: ')):\n",
        "    self.nome_carro = nome_carro\n",
        "\n",
        "  def acelerar(self):\n",
        "    print(f'{self.nome_carro} está acelerandoo...')\n"
      ],
      "metadata": {
        "id": "5wZOqZbyAa30"
      },
      "execution_count": null,
      "outputs": []
    },
    {
      "cell_type": "code",
      "source": [
        "celta = Carro('Celta')\n",
        "celta.acelerar()"
      ],
      "metadata": {
        "id": "IxDgRle6yXxi"
      },
      "execution_count": null,
      "outputs": []
    },
    {
      "cell_type": "code",
      "source": [
        "Carro.acelerar(celta)"
      ],
      "metadata": {
        "id": "qU0KxswHzO06"
      },
      "execution_count": null,
      "outputs": []
    },
    {
      "cell_type": "markdown",
      "source": [
        "##Entendendo ```self```\n",
        "\n",
        "\n",
        "*   Classe - Molde (geralmente sem dados)\n",
        "*   Instância da ```class``` geralmente tem os dados\n",
        "*   Uma classe pode gerar várias instâncias\n",
        "*   Na classe o ```self``` é a própia instância\n",
        "\n",
        "**Se você receber: **\n",
        "\n"
      ],
      "metadata": {
        "id": "hK2YZ1NEww40"
      }
    },
    {
      "cell_type": "code",
      "source": [
        "Carro.acelerar()"
      ],
      "metadata": {
        "id": "t9jBtHhgzeT2"
      },
      "execution_count": null,
      "outputs": []
    },
    {
      "cell_type": "markdown",
      "source": [
        "Vai dar errado pois o Carro é o molde , e não os dados! Então vc praticamente está chamando uma função sem nada... (Vc está chamando os moldes sem as instancias)"
      ],
      "metadata": {
        "id": "Xs-pD-Tu03UT"
      }
    },
    {
      "cell_type": "code",
      "source": [],
      "metadata": {
        "id": "mJgSWvI21F8p"
      },
      "execution_count": null,
      "outputs": []
    },
    {
      "cell_type": "markdown",
      "source": [
        "##Escopo da Classe e Métodos da Classe\n",
        "\n",
        "\n",
        "```\n",
        "#\n",
        "class Molde:\n",
        "  biscoito = 'Biscoitos de chocolate'\n",
        "\n",
        "print(biscoito)\n",
        "```\n",
        "Isso vai dar errado porque vc nn está chamando a classe q contem esse objeto.\n",
        "\n",
        "> **Escopo da Classe**:\n"
      ],
      "metadata": {
        "id": "3CFeineP4pty"
      }
    },
    {
      "cell_type": "code",
      "source": [
        "# Escopo da classe e de métodos da classe\n",
        "class Animal:\n",
        "    # nome = 'Leão'\n",
        "\n",
        "    def __init__(self, nome):\n",
        "        self.nome = nome\n",
        "\n",
        "        variavel = 'valor'\n",
        "        print(variavel)\n",
        "\n",
        "    def comendo(self, alimento):\n",
        "        return f'{self.nome} está comando {alimento}'\n",
        "\n",
        "    def executar(self, *args, **kwargs):#posso chamar  métodos dentro da classe\n",
        "      return self.comendo()\n"
      ],
      "metadata": {
        "id": "-sKL5Z7R6moV"
      },
      "execution_count": null,
      "outputs": []
    },
    {
      "cell_type": "code",
      "source": [
        "leao = Animal(nome='Leão')\n",
        "print(leao.nome)\n",
        "print(leao.executar('maçã'))"
      ],
      "metadata": {
        "id": "ZxDaWpAZ6ryp"
      },
      "execution_count": null,
      "outputs": []
    },
    {
      "cell_type": "markdown",
      "source": [
        "##Mantendo estados dentro  da classe"
      ],
      "metadata": {
        "id": "pZ4TUAGYapQy"
      }
    },
    {
      "cell_type": "code",
      "source": [
        "class Camera:\n",
        "  def __init__(self, nome, filmando= False):\n",
        "               self.nome = nome\n",
        "               self.filmando = filmando\n",
        "\n",
        "  def filmar (self):\n",
        "              print(f'{self.nome} está filmando...')\n",
        "              self.filmando = True\n",
        "  def parar_filmar (self):\n",
        "              if not self.filmando:\n",
        "                print(f'{self.nome} não está filmando...')\n",
        "                return\n",
        "\n",
        "              print(f'{self.nome} está parando de filmar...')\n",
        "              self.filmando = False\n",
        "\n",
        "  def fotografar (self):\n",
        "              if self.filmando:\n",
        "                print(f'{self.nome} não pode fotografar filmando...')\n",
        "                return\n",
        "\n",
        "              print(f'{self.nome} está fotografando...')"
      ],
      "metadata": {
        "id": "tVvcEpk0VWA0"
      },
      "execution_count": null,
      "outputs": []
    },
    {
      "cell_type": "code",
      "source": [
        "c1 = Camera('Canon')\n",
        "c2 = Camera('Sony')"
      ],
      "metadata": {
        "id": "0fHBG4TDWA2C"
      },
      "execution_count": null,
      "outputs": []
    },
    {
      "cell_type": "code",
      "source": [
        "c1.filmar()\n",
        "c1.parar_filmar()\n",
        "c1.fotografar()\n",
        "c1.filmar()"
      ],
      "metadata": {
        "id": "lfQzqy4sBdhy"
      },
      "execution_count": null,
      "outputs": []
    },
    {
      "cell_type": "code",
      "source": [
        "c2.parar_filmar()\n",
        "c2.filmar()\n",
        "c2.parar_filmar()\n",
        "c2.fotografar()\n",
        "c2.filmar()\n"
      ],
      "metadata": {
        "id": "iOg76XfbA1WO"
      },
      "execution_count": null,
      "outputs": []
    },
    {
      "cell_type": "code",
      "source": [
        "c2.fotografar()"
      ],
      "metadata": {
        "id": "5LWDLXDuA6qT"
      },
      "execution_count": null,
      "outputs": []
    },
    {
      "cell_type": "code",
      "source": [
        " print(c1.filmando)#Ela mantem o estado,mantem a instancia\n",
        " print(c2.filmando)"
      ],
      "metadata": {
        "id": "whyrx8sPWOYN"
      },
      "execution_count": null,
      "outputs": []
    },
    {
      "cell_type": "markdown",
      "source": [
        "##Atributos de classe"
      ],
      "metadata": {
        "id": "o_xXkN9qWgrE"
      }
    },
    {
      "cell_type": "code",
      "source": [
        "class Pessoa:\n",
        "  ano_atual = 2023\n",
        "  def __init__(self, nome, idade):\n",
        "    self.nome = nome\n",
        "    self.idade = idade\n",
        "\n",
        "  def get_ano_nascimento(self):\n",
        "    return Pessoa.ano_atual - self.idade\n",
        "\n",
        "p1 = Pessoa('João', 35)"
      ],
      "metadata": {
        "id": "Jtj4GS3FGROV"
      },
      "execution_count": null,
      "outputs": []
    },
    {
      "cell_type": "code",
      "source": [
        "print(p1.idade)"
      ],
      "metadata": {
        "id": "Sq6R-x7mG8SK"
      },
      "execution_count": null,
      "outputs": []
    },
    {
      "cell_type": "markdown",
      "source": [
        "### Visualizar os estados da instância"
      ],
      "metadata": {
        "id": "98wzorz4IoY1"
      }
    },
    {
      "cell_type": "code",
      "source": [
        "### Visualizar os estados da instância\n",
        "print(vars(p1))\n",
        "print(p1.__dict__)"
      ],
      "metadata": {
        "id": "E7bwaWPAHh3_"
      },
      "execution_count": null,
      "outputs": []
    },
    {
      "cell_type": "code",
      "source": [
        "####deletar os estados das instancias\n",
        "del p1.__dict__['nome']"
      ],
      "metadata": {
        "id": "8oXpmsO6HA4e"
      },
      "execution_count": null,
      "outputs": []
    },
    {
      "cell_type": "code",
      "source": [
        "print(p1.__dict__)"
      ],
      "metadata": {
        "id": "UWMSej4bJCV_"
      },
      "execution_count": null,
      "outputs": []
    },
    {
      "cell_type": "code",
      "source": [
        "p1.nome = 'João'"
      ],
      "metadata": {
        "id": "IVSPTzmPJEAd"
      },
      "execution_count": null,
      "outputs": []
    },
    {
      "cell_type": "code",
      "source": [
        "print(p1.__dict__)"
      ],
      "metadata": {
        "id": "2QVk4KIzJNAj"
      },
      "execution_count": null,
      "outputs": []
    },
    {
      "cell_type": "code",
      "source": [
        "p1.__dict__ ['nome'] = 'Vitor'"
      ],
      "metadata": {
        "id": "NsFH5A4iJgYY"
      },
      "execution_count": null,
      "outputs": []
    },
    {
      "cell_type": "code",
      "source": [
        "dados = {'nome': 'Nome Novo', 'idade': 35}"
      ],
      "metadata": {
        "id": "a_A4Ns4AdMFv"
      },
      "execution_count": null,
      "outputs": []
    },
    {
      "cell_type": "code",
      "source": [
        "p1 = Pessoa(**dados)"
      ],
      "metadata": {
        "id": "3OZdeqobeWZG"
      },
      "execution_count": null,
      "outputs": []
    },
    {
      "cell_type": "code",
      "source": [],
      "metadata": {
        "id": "OS-9c8fDeYZA"
      },
      "execution_count": null,
      "outputs": []
    },
    {
      "cell_type": "code",
      "source": [],
      "metadata": {
        "id": "Zr8UsMFdfU_l"
      },
      "execution_count": null,
      "outputs": []
    },
    {
      "cell_type": "markdown",
      "source": [
        "#Curso Python Scrapy\n",
        "\n",
        ">  Vamos fazer um joguinho que permita que um robô ande por uma matriz 10x10 e encontre recompensas. Iremos utilizar\n",
        "Orientação a Objetos (00)"
      ],
      "metadata": {
        "id": "d1f3C_tbfXH0"
      }
    },
    {
      "cell_type": "markdown",
      "source": [
        "> compreensão básica da matriz"
      ],
      "metadata": {
        "id": "BcfXBKg2kiIr"
      }
    },
    {
      "cell_type": "code",
      "source": [
        "class Robo:\n",
        "\n",
        "  def __init__ (self, x,y):\n",
        "    self.x = x\n",
        "    self.y = y"
      ],
      "metadata": {
        "id": "NVEM6pszfbFv"
      },
      "execution_count": null,
      "outputs": []
    },
    {
      "cell_type": "code",
      "source": [
        "robo1 = Robo(10,4)"
      ],
      "metadata": {
        "id": "EUdzzmM0groO"
      },
      "execution_count": null,
      "outputs": []
    },
    {
      "cell_type": "code",
      "source": [
        "robo1.x"
      ],
      "metadata": {
        "id": "CGFznFYBgu1N"
      },
      "execution_count": null,
      "outputs": []
    },
    {
      "cell_type": "code",
      "source": [
        "robo1.y"
      ],
      "metadata": {
        "id": "BxK48_ZzgyLN"
      },
      "execution_count": null,
      "outputs": []
    },
    {
      "cell_type": "markdown",
      "source": [
        " > Criando uma classe que herde da classe **Robo**"
      ],
      "metadata": {
        "id": "KHH8SxNngzs4"
      }
    },
    {
      "cell_type": "code",
      "source": [
        "class Robo3D(Robo):\n",
        "  def __init__(self, x, y, z):\n",
        "    super(Robo3D, self).__init__(x,y)#Chama o inicializador q herda da classe Robo(clase q herda da classe q o Robo3D herda)\n",
        "    self.z = z\n"
      ],
      "metadata": {
        "id": "K7x4Ggf4hHm7"
      },
      "execution_count": null,
      "outputs": []
    },
    {
      "cell_type": "markdown",
      "source": [
        "> Analisando o código, percebe-se que os dados **x** e **y** nao foram inicializados nessa classe, portanto vc herdou da classe '''**Robo**'''"
      ],
      "metadata": {
        "id": "AqfYBWuSivCY"
      }
    },
    {
      "cell_type": "code",
      "source": [
        "robo2 = Robo3D(2,3,4)"
      ],
      "metadata": {
        "id": "QmMFjKzHiF6i"
      },
      "execution_count": null,
      "outputs": []
    },
    {
      "cell_type": "code",
      "source": [
        "robo2.x\n",
        "robo2.y"
      ],
      "metadata": {
        "id": "ZC6N9SRliq2F"
      },
      "execution_count": null,
      "outputs": []
    },
    {
      "cell_type": "code",
      "source": [
        "class Point(object):\n",
        "    #métodos mágicos\n",
        "    def __init__(self, x, y):\n",
        "        self.x = x\n",
        "        self.y = y\n",
        "\n",
        "    def __str__(self):\n",
        "      return '<%s , %s>' % (self.x, self.y)\n"
      ],
      "metadata": {
        "id": "Axxo_nrU1c_e"
      },
      "execution_count": null,
      "outputs": []
    },
    {
      "cell_type": "code",
      "source": [
        "class Reward(Point):\n",
        "\n",
        "    def __init__(self, x, y, name):\n",
        "        super(Reward, self).__init__(x, y)#herdando de Point\n",
        "        self.name = name\n",
        "\n",
        "    def __str__(self):\n",
        "        return '<%s, %s>: %s' % (self.x, self.y, self.name)\n",
        "\n",
        "    def __repr__(self):\n",
        "        return '<Reward> %s' % str(self)\n"
      ],
      "metadata": {
        "id": "b624FzFP1eLC"
      },
      "execution_count": null,
      "outputs": []
    },
    {
      "cell_type": "code",
      "source": [
        "reward1 = Reward(1,1, 'moeda de  prata')"
      ],
      "metadata": {
        "id": "wGy6oyiu1fvG"
      },
      "execution_count": null,
      "outputs": []
    },
    {
      "cell_type": "code",
      "source": [
        "print(reward1.x)\n",
        "print(reward1.name)"
      ],
      "metadata": {
        "colab": {
          "base_uri": "https://localhost:8080/"
        },
        "id": "Q4MYQvJ91wAB",
        "outputId": "fd4c0497-1a9a-4118-cbf7-30f6a8f90e86"
      },
      "execution_count": null,
      "outputs": [
        {
          "output_type": "stream",
          "name": "stdout",
          "text": [
            "1\n",
            "moeda de  prata\n"
          ]
        }
      ]
    },
    {
      "cell_type": "code",
      "source": [
        "class Robo(Point) :\n",
        "  def __init__ (self, x, y):\n",
        "      self.x = x\n",
        "      self.y = y\n",
        "\n",
        "  def move_up(self):\n",
        "      if self.y < 10:\n",
        "        self.y =  self.y + 1\n",
        "      else:\n",
        "        print(\"Movimento proibido! \")\n",
        "\n",
        "  def move_down(self):\n",
        "      if self.y > 0 and self.y < 10:\n",
        "        self.y =  self.y - 1\n",
        "      else:\n",
        "        print(\"Movimento proibido! \")\n",
        "\n",
        "  def move_right(self):\n",
        "      if self.x < 10:\n",
        "        self.x =  self.y + 1\n",
        "      else:\n",
        "        print(\"Movimento proibido! \")\n",
        "\n",
        "  def move_left(self):\n",
        "      if self.x > 0 and self.x < 10:\n",
        "        self.x =  self.x - 1\n",
        "      else:\n",
        "        print(\"Movimento proibido! \")"
      ],
      "metadata": {
        "id": "r40uA4d8iQpP"
      },
      "execution_count": null,
      "outputs": []
    },
    {
      "cell_type": "markdown",
      "source": [
        "> Criando funçao para saber se o local da matriz contem uma recompensa."
      ],
      "metadata": {
        "id": "_BnUmueZ2cU6"
      }
    },
    {
      "cell_type": "code",
      "source": [
        "def check_reward(robo, rewards):\n",
        "  ok = False\n",
        "  for reward in rewards:\n",
        "    if reward.x == robo.x and reward.y == robo.y:\n",
        "      print(\" O robô achou a recompensa: %s\" % reward.name)\n",
        "      ok =  True\n",
        "  return ok\n"
      ],
      "metadata": {
        "id": "LzBVIOKY2jVh"
      },
      "execution_count": null,
      "outputs": []
    },
    {
      "cell_type": "code",
      "source": [
        "import random"
      ],
      "metadata": {
        "id": "OEGg4xnGCcl3"
      },
      "execution_count": null,
      "outputs": []
    },
    {
      "cell_type": "code",
      "source": [
        "r1 = Reward(random.randint(0,10), random.randint(0,10), 'Vinho')\n",
        "r2 = Reward(random.randint(0,10), random.randint(0,10), 'Macarrão')\n",
        "r3 = Reward(random.randint(0,10), random.randint(0,10), 'Cerveja')\n",
        "rewards = [r1,  r2, r3]\n"
      ],
      "metadata": {
        "id": "VkdeJc7dCfFk"
      },
      "execution_count": null,
      "outputs": []
    },
    {
      "cell_type": "code",
      "source": [
        "robot = Robo(random.randint(0, 10), random.randint(0, 10))"
      ],
      "metadata": {
        "id": "e8ofu4CQWbvB"
      },
      "execution_count": null,
      "outputs": []
    },
    {
      "cell_type": "code",
      "source": [
        "robot.move_down()"
      ],
      "metadata": {
        "id": "UsdBOY9HWlti"
      },
      "execution_count": null,
      "outputs": []
    },
    {
      "cell_type": "code",
      "source": [
        "robot.x"
      ],
      "metadata": {
        "colab": {
          "base_uri": "https://localhost:8080/"
        },
        "id": "4ke1YjzBWd-v",
        "outputId": "e9d32ad5-202b-40eb-e09e-7f5074291172"
      },
      "execution_count": null,
      "outputs": [
        {
          "output_type": "execute_result",
          "data": {
            "text/plain": [
              "5"
            ]
          },
          "metadata": {},
          "execution_count": 8
        }
      ]
    },
    {
      "cell_type": "code",
      "source": [
        "robot.y"
      ],
      "metadata": {
        "colab": {
          "base_uri": "https://localhost:8080/"
        },
        "id": "zOuRjZzIWiRM",
        "outputId": "71b8854b-f0b7-4cf0-9f50-4307f339514a"
      },
      "execution_count": null,
      "outputs": [
        {
          "output_type": "execute_result",
          "data": {
            "text/plain": [
              "8"
            ]
          },
          "metadata": {},
          "execution_count": 11
        }
      ]
    },
    {
      "cell_type": "code",
      "source": [
        "rewards"
      ],
      "metadata": {
        "colab": {
          "base_uri": "https://localhost:8080/"
        },
        "id": "RHCdQpOmXk3W",
        "outputId": "aabe46ea-3d18-4126-94db-92edb60fccbb"
      },
      "execution_count": null,
      "outputs": [
        {
          "output_type": "execute_result",
          "data": {
            "text/plain": [
              "[<Reward> <2, 2>: Vinho, <Reward> <1, 1>: Macarrão, <Reward> <3, 1>: Cerveja]"
            ]
          },
          "metadata": {},
          "execution_count": 13
        }
      ]
    },
    {
      "cell_type": "code",
      "source": [
        "for i in range(10):\n",
        "    moviment = input(\"Digite up, down, left ou right para o movimento: \")\n",
        "    if moviment == 'up':\n",
        "        robot.move_up()\n",
        "    elif moviment == 'down':\n",
        "        robot.move_down()\n",
        "    elif moviment == 'left':\n",
        "        robot.move_left()\n",
        "    elif moviment == 'right':\n",
        "        robot.move_right()\n",
        "    else:\n",
        "        print('Movimento inválido')\n",
        "        continue\n",
        "    print(robot)\n",
        "    check_reward(robot, rewards)"
      ],
      "metadata": {
        "colab": {
          "base_uri": "https://localhost:8080/",
          "height": 720
        },
        "id": "xwEa3m1bXOrs",
        "outputId": "6ab4f3d6-4435-4d90-d765-13161e669cbd"
      },
      "execution_count": null,
      "outputs": [
        {
          "output_type": "stream",
          "name": "stdout",
          "text": [
            "Digite up, down, left ou right para o movimento: down\n",
            "<5 , 6>\n",
            "Digite up, down, left ou right para o movimento: down\n",
            "<5 , 5>\n",
            "Digite up, down, left ou right para o movimento: down\n",
            "<5 , 4>\n",
            "Digite up, down, left ou right para o movimento: down\n",
            "<5 , 3>\n",
            "Digite up, down, left ou right para o movimento: down\n",
            "<5 , 2>\n",
            "Digite up, down, left ou right para o movimento: down\n",
            "<5 , 1>\n",
            "Digite up, down, left ou right para o movimento: left\n",
            "<4 , 1>\n",
            "Digite up, down, left ou right para o movimento: left\n",
            "<3 , 1>\n",
            " O robô achou a recompensa: Cerveja\n",
            "Digite up, down, left ou right para o movimento: left\n",
            "<2 , 1>\n"
          ]
        },
        {
          "output_type": "error",
          "ename": "KeyboardInterrupt",
          "evalue": "ignored",
          "traceback": [
            "\u001b[0;31m---------------------------------------------------------------------------\u001b[0m",
            "\u001b[0;31mKeyboardInterrupt\u001b[0m                         Traceback (most recent call last)",
            "\u001b[0;32m<ipython-input-14-3696be54c965>\u001b[0m in \u001b[0;36m<cell line: 1>\u001b[0;34m()\u001b[0m\n\u001b[1;32m      1\u001b[0m \u001b[0;32mfor\u001b[0m \u001b[0mi\u001b[0m \u001b[0;32min\u001b[0m \u001b[0mrange\u001b[0m\u001b[0;34m(\u001b[0m\u001b[0;36m10\u001b[0m\u001b[0;34m)\u001b[0m\u001b[0;34m:\u001b[0m\u001b[0;34m\u001b[0m\u001b[0;34m\u001b[0m\u001b[0m\n\u001b[0;32m----> 2\u001b[0;31m     \u001b[0mmoviment\u001b[0m \u001b[0;34m=\u001b[0m \u001b[0minput\u001b[0m\u001b[0;34m(\u001b[0m\u001b[0;34m\"Digite up, down, left ou right para o movimento: \"\u001b[0m\u001b[0;34m)\u001b[0m\u001b[0;34m\u001b[0m\u001b[0;34m\u001b[0m\u001b[0m\n\u001b[0m\u001b[1;32m      3\u001b[0m     \u001b[0;32mif\u001b[0m \u001b[0mmoviment\u001b[0m \u001b[0;34m==\u001b[0m \u001b[0;34m'up'\u001b[0m\u001b[0;34m:\u001b[0m\u001b[0;34m\u001b[0m\u001b[0;34m\u001b[0m\u001b[0m\n\u001b[1;32m      4\u001b[0m         \u001b[0mrobot\u001b[0m\u001b[0;34m.\u001b[0m\u001b[0mmove_up\u001b[0m\u001b[0;34m(\u001b[0m\u001b[0;34m)\u001b[0m\u001b[0;34m\u001b[0m\u001b[0;34m\u001b[0m\u001b[0m\n\u001b[1;32m      5\u001b[0m     \u001b[0;32melif\u001b[0m \u001b[0mmoviment\u001b[0m \u001b[0;34m==\u001b[0m \u001b[0;34m'down'\u001b[0m\u001b[0;34m:\u001b[0m\u001b[0;34m\u001b[0m\u001b[0;34m\u001b[0m\u001b[0m\n",
            "\u001b[0;32m/usr/local/lib/python3.10/dist-packages/ipykernel/kernelbase.py\u001b[0m in \u001b[0;36mraw_input\u001b[0;34m(self, prompt)\u001b[0m\n\u001b[1;32m    849\u001b[0m                 \u001b[0;34m\"raw_input was called, but this frontend does not support input requests.\"\u001b[0m\u001b[0;34m\u001b[0m\u001b[0;34m\u001b[0m\u001b[0m\n\u001b[1;32m    850\u001b[0m             )\n\u001b[0;32m--> 851\u001b[0;31m         return self._input_request(str(prompt),\n\u001b[0m\u001b[1;32m    852\u001b[0m             \u001b[0mself\u001b[0m\u001b[0;34m.\u001b[0m\u001b[0m_parent_ident\u001b[0m\u001b[0;34m,\u001b[0m\u001b[0;34m\u001b[0m\u001b[0;34m\u001b[0m\u001b[0m\n\u001b[1;32m    853\u001b[0m             \u001b[0mself\u001b[0m\u001b[0;34m.\u001b[0m\u001b[0m_parent_header\u001b[0m\u001b[0;34m,\u001b[0m\u001b[0;34m\u001b[0m\u001b[0;34m\u001b[0m\u001b[0m\n",
            "\u001b[0;32m/usr/local/lib/python3.10/dist-packages/ipykernel/kernelbase.py\u001b[0m in \u001b[0;36m_input_request\u001b[0;34m(self, prompt, ident, parent, password)\u001b[0m\n\u001b[1;32m    893\u001b[0m             \u001b[0;32mexcept\u001b[0m \u001b[0mKeyboardInterrupt\u001b[0m\u001b[0;34m:\u001b[0m\u001b[0;34m\u001b[0m\u001b[0;34m\u001b[0m\u001b[0m\n\u001b[1;32m    894\u001b[0m                 \u001b[0;31m# re-raise KeyboardInterrupt, to truncate traceback\u001b[0m\u001b[0;34m\u001b[0m\u001b[0;34m\u001b[0m\u001b[0m\n\u001b[0;32m--> 895\u001b[0;31m                 \u001b[0;32mraise\u001b[0m \u001b[0mKeyboardInterrupt\u001b[0m\u001b[0;34m(\u001b[0m\u001b[0;34m\"Interrupted by user\"\u001b[0m\u001b[0;34m)\u001b[0m \u001b[0;32mfrom\u001b[0m \u001b[0;32mNone\u001b[0m\u001b[0;34m\u001b[0m\u001b[0;34m\u001b[0m\u001b[0m\n\u001b[0m\u001b[1;32m    896\u001b[0m             \u001b[0;32mexcept\u001b[0m \u001b[0mException\u001b[0m \u001b[0;32mas\u001b[0m \u001b[0me\u001b[0m\u001b[0;34m:\u001b[0m\u001b[0;34m\u001b[0m\u001b[0;34m\u001b[0m\u001b[0m\n\u001b[1;32m    897\u001b[0m                 \u001b[0mself\u001b[0m\u001b[0;34m.\u001b[0m\u001b[0mlog\u001b[0m\u001b[0;34m.\u001b[0m\u001b[0mwarning\u001b[0m\u001b[0;34m(\u001b[0m\u001b[0;34m\"Invalid Message:\"\u001b[0m\u001b[0;34m,\u001b[0m \u001b[0mexc_info\u001b[0m\u001b[0;34m=\u001b[0m\u001b[0;32mTrue\u001b[0m\u001b[0;34m)\u001b[0m\u001b[0;34m\u001b[0m\u001b[0;34m\u001b[0m\u001b[0m\n",
            "\u001b[0;31mKeyboardInterrupt\u001b[0m: Interrupted by user"
          ]
        }
      ]
    },
    {
      "cell_type": "markdown",
      "source": [
        "#Scrapy Fundamentos"
      ],
      "metadata": {
        "id": "1c2MDdlrYtx2"
      }
    },
    {
      "cell_type": "markdown",
      "source": [
        "![image.png](data:image/png;base64,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)\n",
        "\n",
        "###**O que é o Scrapy?**\n",
        "\n",
        "- Scrapy é um framework livre escrito em Python para screen scraping e web crawling, usado para perambular por websites e extrair dados estruturados de suas páginas.\n",
        "\n",
        "- Scrapy usa spider para ler para ler os sites.\n",
        "\n",
        "###**O que é o Spider?**\n",
        "\n",
        "> Mudando um pouco de cenário, partindo para um visão comercial e espero que voces entendam... Todos os sites, são, em suma, direcionados para a prospecção de clientes e vendas, certo?\n",
        "\n",
        "> No mundo de marketing digital temos que avaliar a credibilidade dos sites, para que, principalmente no google, gerenciarmos a disponibilidade do site e ranqueamento das posiçoes (ordem em que aparece na página do google).\n",
        "\n",
        "E para isso o google desenvolveu uma ferramenta para lidar com páginas web que conseguisse extrair características gerais e especificas de como que esse site está funcionando e qual o estado dele em comparação com os outros sites disponíveis.\n",
        "\n",
        "Essa ferramenta é chamada de **Spyder**\n",
        "\n",
        "A nível de curiosidade, toda vez que vc busca algo no google ou no Bing, rodam por trás de sua busca diversos bots para encontrarem informaçoes que se encaixem com a sua busca. Basicamente o spider lê o site todo, e verifica se isso bate com a sua busca.\n",
        "\n",
        "-- Isso foi uma descrição bem chula, tá! Ele também é utilizado para a extraçao de métricas para o ranqueamento desses sites nas páginas q vc visualiza quando busca alguma coisa no seu  browser de costume. Por exemplo:\n",
        "- Delay de Clique\n",
        "- Tempo de abertura e etc\n",
        "\n",
        "O google usa isso para ranqueamento de sites, nao é só isso... Tem outras coisas, tá!?\n",
        "\n",
        "Se vc quiser saber um pouco mais sobre o link está abaixo.\n",
        "https://napoleon.com.br/glossario/o-que-e-google-spider/\n",
        "\n",
        "\n",
        "O spyder utilizasse de métodos de crawlign para rastrear diversas informaçoes especificas de sites para necessidades comerciais, por meio de bots.\n",
        "\n",
        "\n",
        "\n",
        "\n",
        "> Faz requisiçoes de forma assíncrona nas páginas, basicamente em sites dinamicos e com várias sub-pages, vc consegue fazer mais de uma requisição ao mesmo tempo."
      ],
      "metadata": {
        "id": "SHgMph28Yyk8"
      }
    },
    {
      "cell_type": "code",
      "source": [],
      "metadata": {
        "id": "aH5bDj8oY7Es"
      },
      "execution_count": null,
      "outputs": []
    }
  ]
}