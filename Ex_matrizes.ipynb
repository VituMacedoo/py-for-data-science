{
  "nbformat": 4,
  "nbformat_minor": 0,
  "metadata": {
    "colab": {
      "provenance": [],
      "authorship_tag": "ABX9TyMgf28/Sg9NJgd2H8CL+LNL",
      "include_colab_link": true
    },
    "kernelspec": {
      "name": "python3",
      "display_name": "Python 3"
    },
    "language_info": {
      "name": "python"
    }
  },
  "cells": [
    {
      "cell_type": "markdown",
      "metadata": {
        "id": "view-in-github",
        "colab_type": "text"
      },
      "source": [
        "<a href=\"https://colab.research.google.com/github/vitormedeiroos/py-for-data-science/blob/main/Ex_matrizes.ipynb\" target=\"_parent\"><img src=\"https://colab.research.google.com/assets/colab-badge.svg\" alt=\"Open In Colab\"/></a>"
      ]
    },
    {
      "cell_type": "markdown",
      "source": [
        "## Vitor Eduardo Macedo de Medeiros"
      ],
      "metadata": {
        "id": "u0CKJFMVGvPb"
      }
    },
    {
      "cell_type": "code",
      "source": [
        "tamanho = int(input(\"Digite o tamanho desejado da matriz: (Ex: Para pedir uma matriz 2x2, digite 2): \"))\n",
        "matriz = []\n",
        "for i in range(tamanho):\n",
        "    linha = [0] * tamanho\n",
        "    matriz.append(linha)\n",
        "print(matriz)\n",
        "\n",
        "print(\"Digite os elementos da matriz A:\")\n",
        "for i in range(tamanho):\n",
        "    for j in range(tamanho):\n",
        "        matriz[i][j] = int(input(f\"Digite o elemento A[{i+1}][{j+1}]: \"))"
      ],
      "metadata": {
        "colab": {
          "base_uri": "https://localhost:8080/"
        },
        "id": "4aqjm6fDghBO",
        "outputId": "d55a1bea-0e2a-4d57-ddf0-24ef9823a279"
      },
      "execution_count": null,
      "outputs": [
        {
          "name": "stdout",
          "output_type": "stream",
          "text": [
            "Digite o tamanho desejado da matriz: (Ex: Para pedir uma matriz 2x2, digite 2): 3\n",
            "[[0, 0, 0], [0, 0, 0], [0, 0, 0]]\n",
            "Digite os elementos da matriz A:\n",
            "Digite o elemento A[1][1]: 1\n",
            "Digite o elemento A[1][2]: 2\n",
            "Digite o elemento A[1][3]: 3\n",
            "Digite o elemento A[2][1]: 4\n",
            "Digite o elemento A[2][2]: 5\n",
            "Digite o elemento A[2][3]: 6\n",
            "Digite o elemento A[3][1]: 7\n",
            "Digite o elemento A[3][2]: 8\n",
            "Digite o elemento A[3][3]: 9\n"
          ]
        }
      ]
    },
    {
      "cell_type": "code",
      "source": [
        "print(f\"Matriz {tamanho}x{tamanho} \\n\")\n",
        "for linha in matriz:\n",
        "    print(linha)\n"
      ],
      "metadata": {
        "colab": {
          "base_uri": "https://localhost:8080/"
        },
        "id": "a7ETj_LozyKo",
        "outputId": "0c2af08f-2910-4a7e-c1a1-1497cd971509"
      },
      "execution_count": null,
      "outputs": [
        {
          "output_type": "stream",
          "name": "stdout",
          "text": [
            "Matriz 3x3 \n",
            "\n",
            "[1, 2, 3]\n",
            "[4, 5, 6]\n",
            "[7, 8, 9]\n"
          ]
        }
      ]
    },
    {
      "cell_type": "code",
      "source": [
        "#matriz triangular inferior\n",
        "matriz_triangular_inferior = []\n",
        "\n",
        "for i in range(tamanho):\n",
        "  linha =[]\n",
        "  for j in range(tamanho):\n",
        "    if j <= i:\n",
        "      linha.append(matriz[i][j])\n",
        "    else:\n",
        "      linha.append(0)\n",
        "  matriz_triangular_inferior.append(linha)\n",
        "\n",
        "print(\"Matriz triangular inferior! \\n\")\n",
        "for linha in matriz_triangular_inferior:\n",
        "  print(linha)"
      ],
      "metadata": {
        "colab": {
          "base_uri": "https://localhost:8080/"
        },
        "id": "esnSNlUF1lGf",
        "outputId": "d3039255-71bc-4bc5-899c-3465a37c3a8a"
      },
      "execution_count": null,
      "outputs": [
        {
          "output_type": "stream",
          "name": "stdout",
          "text": [
            "Matriz triangular inferior! \n",
            "\n",
            "[1, 0, 0]\n",
            "[4, 5, 0]\n",
            "[7, 8, 9]\n"
          ]
        }
      ]
    },
    {
      "cell_type": "code",
      "source": [
        "matriz_triangular_superior = []\n",
        "for i in range(tamanho):\n",
        "    linha = []\n",
        "    for j in range(tamanho):\n",
        "        if i <= j:\n",
        "            linha.append(matriz[i][j])\n",
        "        else:\n",
        "            linha.append(0)\n",
        "    matriz_triangular_superior.append(linha)\n",
        "print(\"Matriz triangular superior! \\n\")\n",
        "for linha in matriz_triangular_superior:\n",
        "  print(linha)"
      ],
      "metadata": {
        "colab": {
          "base_uri": "https://localhost:8080/"
        },
        "id": "kCdpB3RWD6DT",
        "outputId": "fe9eac47-5268-416f-a132-d6528e91014f"
      },
      "execution_count": null,
      "outputs": [
        {
          "output_type": "stream",
          "name": "stdout",
          "text": [
            "Matriz triangular superior! \n",
            "\n",
            "[1, 2, 3]\n",
            "[0, 5, 6]\n",
            "[0, 0, 9]\n"
          ]
        }
      ]
    }
  ]
}